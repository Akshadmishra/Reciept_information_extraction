{
 "cells": [
  {
   "cell_type": "code",
   "execution_count": 2,
   "id": "6fb165d8",
   "metadata": {},
   "outputs": [],
   "source": [
    "import pytesseract\n",
    "pytesseract.pytesseract.tesseract_cmd=r'C:\\\\Program Files\\\\Tesseract-OCR\\\\tesseract.exe'"
   ]
  },
  {
   "cell_type": "code",
   "execution_count": 3,
   "id": "4fd9a192",
   "metadata": {},
   "outputs": [],
   "source": [
    "import cv2"
   ]
  },
  {
   "cell_type": "code",
   "execution_count": 4,
   "id": "f4e7eccf",
   "metadata": {},
   "outputs": [],
   "source": [
    "img=cv2.imread('WhatsApp Image 2022-11-13 at 13.55.41.jpeg')\n",
    "cv2.imshow('sample image',img)\n",
    "cv2.waitKey(0)\n",
    "cv2.destroyAllWindows()"
   ]
  },
  {
   "cell_type": "code",
   "execution_count": 5,
   "id": "826dac7a",
   "metadata": {},
   "outputs": [
    {
     "name": "stdout",
     "output_type": "stream",
     "text": [
      "tan chay yee\n",
      "\n",
      "*** COPY ***\n",
      "OJC MARKETING SDN BHD\n",
      "ROC NO: 538358-H\n",
      "NO 2&4, JALAN BAYU 4,\n",
      "BANDAR SERI ALAM,\n",
      "81750 MASAI, JOHOR\n",
      "Tel:07-388 2218 Fax:07-388 8218\n",
      "Email: ng@ojcgroup.com\n",
      "\n",
      "TAX INVOICE\n",
      "\n",
      "“Tnvoice No”! PEGIV-1030765\n",
      "Date 2 15/01/2019 11:05:16 AM\n",
      "Cashier : NG CHUAN MIN\n",
      "Sales Persor : FATIN\n",
      "Bill To : THE PEAK QUARRY WORKS.\n",
      "Address\n",
      "\n",
      "__ Description Qty. Price Amount\n",
      "\n",
      "‘tal Exclude GST: 193.00\n",
      "Total GST @6%: 0.00\n",
      "Total Inclusive GST: 193.00\n",
      "\n",
      "VISA CARD 19:\n",
      "9900000000004 318\n",
      "\n",
      "Approval Code:000 I-00) .\n",
      "\n",
      "Goods Sold Are Not Returnable & Refundable\n",
      "*+*+Thank You. Please Come Again.****\n",
      "\n"
     ]
    }
   ],
   "source": [
    "text=pytesseract.image_to_string(img)\n",
    "print(text)"
   ]
  },
  {
   "cell_type": "code",
   "execution_count": null,
   "id": "3db60606",
   "metadata": {},
   "outputs": [],
   "source": []
  },
  {
   "cell_type": "code",
   "execution_count": null,
   "id": "8ce28dc4",
   "metadata": {},
   "outputs": [],
   "source": []
  }
 ],
 "metadata": {
  "kernelspec": {
   "display_name": "Python 3",
   "language": "python",
   "name": "python3"
  },
  "language_info": {
   "codemirror_mode": {
    "name": "ipython",
    "version": 3
   },
   "file_extension": ".py",
   "mimetype": "text/x-python",
   "name": "python",
   "nbconvert_exporter": "python",
   "pygments_lexer": "ipython3",
   "version": "3.8.8"
  }
 },
 "nbformat": 4,
 "nbformat_minor": 5
}
